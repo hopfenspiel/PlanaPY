{
 "cells": [
  {
   "cell_type": "code",
   "execution_count": null,
   "id": "6433587d",
   "metadata": {},
   "outputs": [],
   "source": [
    "from PlanaPY import PlanaPY\n",
    "import json\n",
    "import pandas as pd"
   ]
  },
  {
   "cell_type": "code",
   "execution_count": null,
   "id": "a0ccde6b",
   "metadata": {},
   "outputs": [],
   "source": [
    "## load credentials \n",
    "## (can use login.txt file or just setup variables for username and password)\n",
    "\n",
    "with open(\"login.txt\",\"r\") as f:\n",
    "    credentials = json.load(f)"
   ]
  },
  {
   "cell_type": "markdown",
   "id": "44f57b4d",
   "metadata": {},
   "source": [
    "# Anaplan API Connection/Close and Token Retrieval"
   ]
  },
  {
   "cell_type": "code",
   "execution_count": null,
   "id": "263a5b6a",
   "metadata": {},
   "outputs": [],
   "source": [
    "## instantiate new API instance\n",
    "api = PlanaPY.AnaplanAPI()"
   ]
  },
  {
   "cell_type": "code",
   "execution_count": null,
   "id": "89ddba87",
   "metadata": {},
   "outputs": [],
   "source": [
    "# check if API token has been acquired\n",
    "api.token_check()"
   ]
  },
  {
   "cell_type": "code",
   "execution_count": null,
   "id": "1c75f3fa",
   "metadata": {},
   "outputs": [],
   "source": [
    "## acquire API Auth Token\n",
    "api.acquire_token(credentials['username'], credentials['password'])\n",
    "\n",
    "api.token"
   ]
  },
  {
   "cell_type": "code",
   "execution_count": null,
   "id": "4f1976d0",
   "metadata": {},
   "outputs": [],
   "source": [
    "## get token details\n",
    "api.token_details()"
   ]
  },
  {
   "cell_type": "code",
   "execution_count": null,
   "id": "25752555",
   "metadata": {},
   "outputs": [],
   "source": [
    "## refresh API token\n",
    "api.refresh_token()\n",
    "\n",
    "api.token"
   ]
  },
  {
   "cell_type": "code",
   "execution_count": null,
   "id": "a0f79e57",
   "metadata": {},
   "outputs": [],
   "source": [
    "## end API session\n",
    "api.end_session()"
   ]
  },
  {
   "cell_type": "markdown",
   "id": "a664fbee",
   "metadata": {},
   "source": [
    "# API Processes"
   ]
  },
  {
   "cell_type": "markdown",
   "id": "dd06ef00",
   "metadata": {},
   "source": [
    "## Pull in API logic"
   ]
  },
  {
   "cell_type": "code",
   "execution_count": null,
   "id": "36371a76",
   "metadata": {},
   "outputs": [],
   "source": [
    "## instantiate an API Models class instance\n",
    "## IMPORTANT - feed the already created api class instance to this class\n",
    "plan = PlanaPY.AnaplanModels(api)"
   ]
  },
  {
   "cell_type": "markdown",
   "id": "f69817bc",
   "metadata": {},
   "source": [
    "## Get Model Details"
   ]
  },
  {
   "cell_type": "code",
   "execution_count": null,
   "id": "e672efe3",
   "metadata": {},
   "outputs": [],
   "source": [
    "## get model details across all workspaces\n",
    "plan.get_models()['currentWorkspaceName'].unique()"
   ]
  },
  {
   "cell_type": "code",
   "execution_count": null,
   "id": "872dbbaa",
   "metadata": {},
   "outputs": [],
   "source": [
    "## specicy model name and workspace \n",
    "## for model-specific actions\n",
    "workspace = ''\n",
    "model = ''"
   ]
  },
  {
   "cell_type": "code",
   "execution_count": null,
   "id": "82989646",
   "metadata": {},
   "outputs": [],
   "source": [
    "## retrieve details of all files in a specific model  \n",
    "plan.get_model_files(\n",
    "    model = model,\n",
    "    workspace = workspace\n",
    ")"
   ]
  },
  {
   "cell_type": "code",
   "execution_count": null,
   "id": "3465b724",
   "metadata": {},
   "outputs": [],
   "source": [
    "## retrieve details of all processes in a specific model\n",
    "plan.get_processes(\n",
    "    model = model,\n",
    "    workspace = workspace\n",
    ")"
   ]
  },
  {
   "cell_type": "code",
   "execution_count": null,
   "id": "9dd7732a",
   "metadata": {},
   "outputs": [],
   "source": [
    "## retrieve all delete actions in a specific model\n",
    "plan.get_delete_actions(\n",
    "    model = model,\n",
    "    workspace = workspace\n",
    ")"
   ]
  },
  {
   "cell_type": "markdown",
   "id": "619019bf",
   "metadata": {},
   "source": [
    "## Import Files"
   ]
  },
  {
   "cell_type": "code",
   "execution_count": null,
   "id": "a8d2187a",
   "metadata": {},
   "outputs": [],
   "source": [
    "## import file to model \n",
    "## NOTE: reference file by filename, not Anaplan file ID \n",
    "## (file ID is found using filename)\n",
    "filename=r''\n",
    "\n",
    "plan.import_file(\n",
    "    model = model,\n",
    "    workspace = workspace,\n",
    "    file = filename\n",
    ")"
   ]
  },
  {
   "cell_type": "markdown",
   "id": "c409684c",
   "metadata": {},
   "source": [
    "## Run Model Processes and Delete Actions"
   ]
  },
  {
   "cell_type": "code",
   "execution_count": null,
   "id": "d12c8f25",
   "metadata": {},
   "outputs": [],
   "source": [
    "## run model process\n",
    "## NOTE: reference process by process name, not Anaplan process ID \n",
    "## (process ID is found using process name)\n",
    "process = ''\n",
    "\n",
    "plan.run_process(\n",
    "    model = model,\n",
    "    workspace = workspace,\n",
    "    process = process\n",
    ")"
   ]
  },
  {
   "cell_type": "code",
   "execution_count": null,
   "id": "366fcd20",
   "metadata": {},
   "outputs": [],
   "source": [
    "## run delete action\n",
    "## NOTE: reference process by delete action name, not Anaplan delete action ID \n",
    "## (delete action ID is found using delete action name)\n",
    "action = ''\n",
    "\n",
    "plan.run_process(\n",
    "    model = model,\n",
    "    workspace = workspace,\n",
    "    action = action\n",
    ")"
   ]
  },
  {
   "cell_type": "markdown",
   "id": "7726dad7",
   "metadata": {},
   "source": [
    "## Export Data"
   ]
  },
  {
   "cell_type": "code",
   "execution_count": null,
   "id": "e598421a",
   "metadata": {},
   "outputs": [],
   "source": [
    "## retrieve all export actions in a specific model\n",
    "plan.get_export_actions(\n",
    "    model = model,\n",
    "    workspace = workspace\n",
    ")"
   ]
  },
  {
   "cell_type": "code",
   "execution_count": null,
   "id": "9e7be5c7",
   "metadata": {},
   "outputs": [],
   "source": [
    "## run export action (this creates the export file but does not download the data)\n",
    "## NOTE: reference process by export action name, not Anaplan export action ID \n",
    "## (export action ID is found using delete action name)\n",
    "export = ''\n",
    "\n",
    "plan.run_export_action(\n",
    "    model = model,\n",
    "    workspace = workspace,\n",
    "    export = export\n",
    ")"
   ]
  },
  {
   "cell_type": "code",
   "execution_count": null,
   "id": "507bbae5",
   "metadata": {},
   "outputs": [],
   "source": [
    "## export the data generated from running the export action\n",
    "## the data is returned as a Pandas dataframe\n",
    "plan.export_data(\n",
    "    model = model,\n",
    "    workspace = workspace,\n",
    "    export = export\n",
    ")"
   ]
  },
  {
   "cell_type": "markdown",
   "id": "85d65404",
   "metadata": {},
   "source": [
    "# ALM Functionality"
   ]
  },
  {
   "cell_type": "code",
   "execution_count": null,
   "id": "e814e992",
   "metadata": {},
   "outputs": [],
   "source": [
    "## specify Dev/source model, PROD/target model, and Workspace\n",
    "dev_model = ''\n",
    "prod_model = ''\n",
    "workspace = ''"
   ]
  },
  {
   "cell_type": "code",
   "execution_count": null,
   "id": "41f33ea2",
   "metadata": {},
   "outputs": [],
   "source": [
    "## create a revision tag for a specified model\n",
    "rev_name = ''\n",
    "rev_desc = ''\n",
    "\n",
    "plan.create_revision(\n",
    "    model = dev_model,\n",
    "    workspace = workspace,\n",
    "    rev_name = rev_name,\n",
    "    rev_desc = rev_desc,\n",
    ")"
   ]
  },
  {
   "cell_type": "code",
   "execution_count": null,
   "id": "b154c9b0",
   "metadata": {},
   "outputs": [],
   "source": [
    "## get all compatible revision tags between specified DEV/source and PROD/target model \n",
    "plan.compatible_revisions(\n",
    "    source_model = dev_model, \n",
    "    target_model = prod_model, \n",
    "    workspace = workspace\n",
    ")"
   ]
  },
  {
   "cell_type": "code",
   "execution_count": null,
   "id": "acdcfe88",
   "metadata": {},
   "outputs": [],
   "source": [
    "## get only latest revision tag for a specified model\n",
    "plan.latest_revision(\n",
    "    model = dev_model,\n",
    "    workspace = workspace\n",
    ")"
   ]
  },
  {
   "cell_type": "code",
   "execution_count": null,
   "id": "ac591065",
   "metadata": {},
   "outputs": [],
   "source": [
    "## get all revision tags for a specified model\n",
    "plan.all_revisions(\n",
    "    model = dev_model,\n",
    "    workspace = workspace\n",
    ")"
   ]
  },
  {
   "cell_type": "code",
   "execution_count": null,
   "id": "ce3a9903",
   "metadata": {},
   "outputs": [],
   "source": [
    "## get list of sync's that have occurred in the PROD/target model\n",
    "plan.sync_tasks_list(\n",
    "    model = prod_model,\n",
    "    workspace = workspace\n",
    ")"
   ]
  },
  {
   "cell_type": "code",
   "execution_count": null,
   "id": "888167ff",
   "metadata": {},
   "outputs": [],
   "source": [
    "## sync DEV/source and PROD/target models \n",
    "## will sync to latest revision tag\n",
    "plan.sync_models(\n",
    "    source_model = dev_model,\n",
    "    target_model = prod_model,\n",
    "    workspace = workspace\n",
    ")"
   ]
  },
  {
   "cell_type": "code",
   "execution_count": null,
   "id": "a780f517",
   "metadata": {},
   "outputs": [],
   "source": [
    "## change model status \n",
    "## options are: online, offline\n",
    "## useful for bringing PROD/target models back online after pushing a new revision tag\n",
    "status = ''\n",
    "\n",
    "plan.change_model_status(\n",
    "    model = model,\n",
    "    workspace = workspace,\n",
    "    status = status)"
   ]
  }
 ],
 "metadata": {
  "kernelspec": {
   "display_name": "Python 3 (ipykernel)",
   "language": "python",
   "name": "python3"
  },
  "language_info": {
   "codemirror_mode": {
    "name": "ipython",
    "version": 3
   },
   "file_extension": ".py",
   "mimetype": "text/x-python",
   "name": "python",
   "nbconvert_exporter": "python",
   "pygments_lexer": "ipython3",
   "version": "3.9.16"
  }
 },
 "nbformat": 4,
 "nbformat_minor": 5
}
